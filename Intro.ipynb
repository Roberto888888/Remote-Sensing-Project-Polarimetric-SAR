{
 "cells": [
  {
   "cell_type": "markdown",
   "id": "871f2b97-891e-408a-933b-1e999eebcfd2",
   "metadata": {},
   "source": [
    "# <center><font color = lime>**<u>Change Detection Using Polarimetric SAR data</u>**"
   ]
  },
  {
   "cell_type": "markdown",
   "id": "220de5da-dcac-4aa4-b38f-e214cc582e9f",
   "metadata": {},
   "source": [
    "**AIM**:\n",
    "Using *Polarimetric Synthetic Aperture* Radars to detect changes in an agricultural field.\n",
    "\n",
    "**DATA**:\n",
    "- Binary files containing real and complex numbers.\n",
    "- Provided to me from a supervisor.\n",
    "\n",
    "---\n",
    "NOTES about data:\n",
    "The data compared here has been acquired in March and April, 1998. The site is located at the *Research Centre Foulum of the Danish Institute of Agricultural Sciences*. The site contains a large number of agricultural fields with different crops, as well as several lakes, forests, areas with natural vegetation, grasslands, and urban areas.\n",
    "\n",
    "For this project the following section is considered."
   ]
  },
  {
   "cell_type": "markdown",
   "id": "20ac245f-8c82-4c9c-9907-8269c6d5a287",
   "metadata": {
    "tags": []
   },
   "source": [
    "<img src = \"Fields.jpg\" width=\"400\" height=\"200\">"
   ]
  },
  {
   "cell_type": "markdown",
   "id": "da047a94-787e-48fb-9d50-654dfa6711b3",
   "metadata": {},
   "source": [
    "A description of the crops was provided as an excel file:"
   ]
  },
  {
   "cell_type": "code",
   "execution_count": 1,
   "id": "d658339e-58b9-4273-a219-cc5652e4e73e",
   "metadata": {
    "tags": []
   },
   "outputs": [
    {
     "data": {
      "text/html": [
       "<div>\n",
       "<style scoped>\n",
       "    .dataframe tbody tr th:only-of-type {\n",
       "        vertical-align: middle;\n",
       "    }\n",
       "\n",
       "    .dataframe tbody tr th {\n",
       "        vertical-align: top;\n",
       "    }\n",
       "\n",
       "    .dataframe thead th {\n",
       "        text-align: right;\n",
       "    }\n",
       "</style>\n",
       "<table border=\"1\" class=\"dataframe\">\n",
       "  <thead>\n",
       "    <tr style=\"text-align: right;\">\n",
       "      <th></th>\n",
       "      <th>Crop</th>\n",
       "      <th>Height April</th>\n",
       "      <th>BBCH April</th>\n",
       "      <th>Height May</th>\n",
       "      <th>BBCH May</th>\n",
       "      <th>Height June</th>\n",
       "      <th>BBCH June</th>\n",
       "      <th>Height July</th>\n",
       "      <th>BBCH July</th>\n",
       "    </tr>\n",
       "    <tr>\n",
       "      <th>Label</th>\n",
       "      <th></th>\n",
       "      <th></th>\n",
       "      <th></th>\n",
       "      <th></th>\n",
       "      <th></th>\n",
       "      <th></th>\n",
       "      <th></th>\n",
       "      <th></th>\n",
       "      <th></th>\n",
       "    </tr>\n",
       "  </thead>\n",
       "  <tbody>\n",
       "    <tr>\n",
       "      <th>1.0</th>\n",
       "      <td>Rye</td>\n",
       "      <td>NaN</td>\n",
       "      <td>23-24</td>\n",
       "      <td>61</td>\n",
       "      <td>49</td>\n",
       "      <td>110</td>\n",
       "      <td>60</td>\n",
       "      <td>92</td>\n",
       "      <td>86</td>\n",
       "    </tr>\n",
       "    <tr>\n",
       "      <th>2.0</th>\n",
       "      <td>Grass (Rajgræs)</td>\n",
       "      <td>NaN</td>\n",
       "      <td>NaN</td>\n",
       "      <td>NaN</td>\n",
       "      <td>NaN</td>\n",
       "      <td>NaN</td>\n",
       "      <td>NaN</td>\n",
       "      <td>NaN</td>\n",
       "      <td>NaN</td>\n",
       "    </tr>\n",
       "    <tr>\n",
       "      <th>3.0</th>\n",
       "      <td>Winter wheat</td>\n",
       "      <td>NaN</td>\n",
       "      <td>20</td>\n",
       "      <td>48</td>\n",
       "      <td>37</td>\n",
       "      <td>74</td>\n",
       "      <td>59</td>\n",
       "      <td>71</td>\n",
       "      <td>85</td>\n",
       "    </tr>\n",
       "    <tr>\n",
       "      <th>4.0</th>\n",
       "      <td>Grass (Rajgræs)</td>\n",
       "      <td>12</td>\n",
       "      <td>21</td>\n",
       "      <td>26</td>\n",
       "      <td>37</td>\n",
       "      <td>54</td>\n",
       "      <td>60</td>\n",
       "      <td>NaN</td>\n",
       "      <td>80</td>\n",
       "    </tr>\n",
       "    <tr>\n",
       "      <th>5.0</th>\n",
       "      <td>Winter wheat</td>\n",
       "      <td>14</td>\n",
       "      <td>29</td>\n",
       "      <td>42</td>\n",
       "      <td>39</td>\n",
       "      <td>78</td>\n",
       "      <td>58</td>\n",
       "      <td>90</td>\n",
       "      <td>81</td>\n",
       "    </tr>\n",
       "    <tr>\n",
       "      <th>6.0</th>\n",
       "      <td>Spring barley</td>\n",
       "      <td>NaN</td>\n",
       "      <td>NaN</td>\n",
       "      <td>14</td>\n",
       "      <td>28</td>\n",
       "      <td>54</td>\n",
       "      <td>49</td>\n",
       "      <td>63</td>\n",
       "      <td>63</td>\n",
       "    </tr>\n",
       "    <tr>\n",
       "      <th>7.0</th>\n",
       "      <td>Peas</td>\n",
       "      <td>NaN</td>\n",
       "      <td>NaN</td>\n",
       "      <td>12</td>\n",
       "      <td>14</td>\n",
       "      <td>42</td>\n",
       "      <td>54</td>\n",
       "      <td>69</td>\n",
       "      <td>71</td>\n",
       "    </tr>\n",
       "    <tr>\n",
       "      <th>8.0</th>\n",
       "      <td>Rye</td>\n",
       "      <td>21</td>\n",
       "      <td>21</td>\n",
       "      <td>51</td>\n",
       "      <td>49</td>\n",
       "      <td>98</td>\n",
       "      <td>65</td>\n",
       "      <td>99</td>\n",
       "      <td>80</td>\n",
       "    </tr>\n",
       "    <tr>\n",
       "      <th>9.0</th>\n",
       "      <td>Spring oats</td>\n",
       "      <td>NaN</td>\n",
       "      <td>NaN</td>\n",
       "      <td>22</td>\n",
       "      <td>29</td>\n",
       "      <td>66</td>\n",
       "      <td>43</td>\n",
       "      <td>99</td>\n",
       "      <td>69</td>\n",
       "    </tr>\n",
       "    <tr>\n",
       "      <th>10.0</th>\n",
       "      <td>Grass (Rajgræs)</td>\n",
       "      <td>NaN</td>\n",
       "      <td>NaN</td>\n",
       "      <td>53</td>\n",
       "      <td>53</td>\n",
       "      <td>NaN</td>\n",
       "      <td>NaN</td>\n",
       "      <td>NaN</td>\n",
       "      <td>89</td>\n",
       "    </tr>\n",
       "  </tbody>\n",
       "</table>\n",
       "</div>"
      ],
      "text/plain": [
       "                  Crop Height April BBCH April Height May BBCH May  \\\n",
       "Label                                                                \n",
       "1.0                Rye          NaN      23-24         61       49   \n",
       "2.0    Grass (Rajgræs)          NaN        NaN        NaN      NaN   \n",
       "3.0       Winter wheat          NaN         20         48       37   \n",
       "4.0    Grass (Rajgræs)           12         21         26       37   \n",
       "5.0       Winter wheat           14         29         42       39   \n",
       "6.0      Spring barley          NaN        NaN         14       28   \n",
       "7.0               Peas          NaN        NaN         12       14   \n",
       "8.0                Rye           21         21         51       49   \n",
       "9.0        Spring oats          NaN        NaN         22       29   \n",
       "10.0   Grass (Rajgræs)          NaN        NaN         53       53   \n",
       "\n",
       "      Height June BBCH June Height July BBCH July  \n",
       "Label                                              \n",
       "1.0           110        60          92        86  \n",
       "2.0           NaN       NaN         NaN       NaN  \n",
       "3.0            74        59          71        85  \n",
       "4.0            54        60         NaN        80  \n",
       "5.0            78        58          90        81  \n",
       "6.0            54        49          63        63  \n",
       "7.0            42        54          69        71  \n",
       "8.0            98        65          99        80  \n",
       "9.0            66        43          99        69  \n",
       "10.0          NaN       NaN         NaN        89  "
      ]
     },
     "execution_count": 1,
     "metadata": {},
     "output_type": "execute_result"
    }
   ],
   "source": [
    "import pandas as pd\n",
    "\n",
    "df = pd.read_excel('croptypes.xlsx', index_col=[0])\n",
    "df.drop(index=df.index[0], axis=0, inplace=True)\n",
    "df.head(10)"
   ]
  },
  {
   "cell_type": "markdown",
   "id": "cb46090c-08bc-46d0-8d46-f3cdfea96e32",
   "metadata": {},
   "source": [
    "![green-divider](https://user-images.githubusercontent.com/7065401/52071924-c003ad80-2562-11e9-8297-1c6595f8a7ff.png)"
   ]
  },
  {
   "cell_type": "markdown",
   "id": "0d61b3e4-0e80-4a8e-843b-b111448ac4ab",
   "metadata": {},
   "source": [
    "### <font color = yellow> ■ **<u>Polarimetric SAR</u>**"
   ]
  },
  {
   "cell_type": "markdown",
   "id": "a2c3a88e-9f70-417d-abbf-85cd3b7dfabd",
   "metadata": {},
   "source": [
    "This data has been acquired by the *EMISAR* system, an airborne, experimental, fully polarimetric Synthetic Aperture Radar. A SAR system can collect remote sensing data in most weather and light conditions. A Polarimetric SAR exploits different responses to different polarizations of the radar signals.\n",
    "\n",
    "Some key characteristics:\n",
    "\n",
    "- Two frequencies: 5.3 GHz (C-Band), 1.2 GHz (L-Band). The data used for the project has been acquired in L-Band.\n",
    "- Altitude: 12,500 m ca\n",
    "- Spatial Resolution: 2 x 2 m (one look)\n",
    "- Ground range swath: 12 km ca\n",
    "- Incidence Angle: 35 - 60 degrees\n",
    "- Radiometric calibration: better than ±0.5 dB\n",
    "- Channel imbalance: less than ±0.5 dB in amplitude and ±5° in phase\n",
    "- Cross-Polarisation contamination suppressed by more than 30 dB."
   ]
  },
  {
   "cell_type": "markdown",
   "id": "2024dc69-660e-4a13-a999-7bdd1a24e278",
   "metadata": {},
   "source": [
    "### <font color = yellow> ■ **<u>Data Acquisition</u>**"
   ]
  },
  {
   "attachments": {
    "e5839ae4-ff3c-4c4a-80db-a9e814cdfdc0.png": {
     "image/png": "[encoded data removed]"
    }
   },
   "cell_type": "markdown",
   "id": "56b930a2-6a98-4002-a98c-32cced5c8281",
   "metadata": {},
   "source": [
    "In practicle terms, the amplitude and phase of backscattered signals are measured in four combinations of linear transmitted and received polarizations : HH, HV, VH and VV. This data is used to build the so-called *complex scattering matrix*.\n",
    "\n",
    "The development of different crops over time causes changes in the backscatter. The radar backscattering is sensitive to the dielectric properties of the vegetation and the soil, to the plant structure (i.e., the size, shape, and orientation distributions of the scatterers), to the surface roughness, and to the canopy structure (e.g., row direction and spacing and cover fraction).\n",
    "\n",
    "Polarimetric data is affected by *speckle noise*, therefore data is filtered when it's aquired to reduce noise. Without going too deep into the details, the result is labelled as multi-look data for which a more proper representation is the *covariance matrix*, in which the average properties of a group of resolution cells can be\n",
    "expressed in a single matrix. The average covariance matrix is\n",
    "\n",
    "![immagine.png](attachment:e5839ae4-ff3c-4c4a-80db-a9e814cdfdc0.png)\n",
    "\n",
    "<font color = orange> **<u>NOTE:</u>** This matrix is *Hermitian*: elements above the main diagonal are the complex conjugates of the element below it. \n",
    "    \n",
    "All acquisitions were co-registered by identifying ground control points in the images and using an interferometric DEM acquired by the EMISAR system. Before resampling, the original one-look scattering matrix data were transformed to covariance matrix data, and these data were averaged to reduce the speckle by a cosine-squared weighted 9 by 9 filter. The new pixel spacing in the images is 5 m by 5 m, and the effective spatial resolution is approximately 8 m by 8 m at mid-range. After the averaging the equivalent number of looks is estimated to be 9-11 from homogenous areas in the images. This corresponds to a standard deviation for the backscatter coefficient of approximately 1.1 – 1.8 dB."
   ]
  },
  {
   "cell_type": "markdown",
   "id": "8bbb655c-7832-44b1-bd62-08add6e7ff1a",
   "metadata": {
    "tags": []
   },
   "source": [
    "![separator2](https://i.imgur.com/4gX5WFr.png)"
   ]
  },
  {
   "cell_type": "markdown",
   "id": "1e255d30-5da5-48ae-a6e8-aca86d1e078c",
   "metadata": {},
   "source": [
    "### <font color = lime> **<u>Data Processing - Theory</u>**"
   ]
  },
  {
   "cell_type": "markdown",
   "id": "b85fda4d-a876-4966-861a-c6e68efd4c14",
   "metadata": {},
   "source": [
    "The dataset can be used to build images.\n",
    "\n",
    "The numbers read from the binary files are related to different pixels.\n",
    "\n",
    "For each pixel a covariance matrix is constructed."
   ]
  },
  {
   "cell_type": "markdown",
   "id": "84798668-1506-490d-8e9c-e6249fe9f336",
   "metadata": {},
   "source": [
    "The aim of this project is to use these covariance matrices - so the full polarimetric data and not just part - to detect changes in 2 different datasets."
   ]
  },
  {
   "cell_type": "markdown",
   "id": "b503107d-9cee-431e-9beb-6080ad4d9eb3",
   "metadata": {},
   "source": [
    "---\n",
    "The covariance Matrix follows a *Wishart Distribution*.\n",
    "\n",
    "For 2 Hermitian, positive, definite, Wishart-distributed matrices **X** and **Y**, in testing the null hypothesis that the 2 matrices are equal against the hypothesis that they are different, the *Likelihood-Ratio Test Statistics* is:"
   ]
  },
  {
   "attachments": {
    "22da6b81-0ce4-4200-b627-9123a327914a.png": {
     "image/png": "[encoded data removed]"
    }
   },
   "cell_type": "markdown",
   "id": "6247595d-d811-41ba-8967-06792c6ecef4",
   "metadata": {},
   "source": [
    "![immagine.png](attachment:22da6b81-0ce4-4200-b627-9123a327914a.png)"
   ]
  },
  {
   "attachments": {
    "9da9f308-9c2b-412d-ba16-d85dfab798dd.png": {
     "image/png": "[encoded data removed]"
    }
   },
   "cell_type": "markdown",
   "id": "7e67ae21-38db-4880-ba13-0d3f2f696013",
   "metadata": {},
   "source": [
    "which in the case n = m that is typically the case for change detection, leads to\n",
    "\n",
    "![immagine.png](attachment:9da9f308-9c2b-412d-ba16-d85dfab798dd.png)"
   ]
  },
  {
   "attachments": {
    "356a7b0f-8283-4867-a39c-2f4c6cb6a20d.png": {
     "image/png": "[encoded data removed]"
    },
    "692e9ffc-5ac2-4c00-8afb-9da4fd2ab21a.png": {
     "image/png": "[encoded data removed]"
    },
    "e758c02d-0e2c-436e-af95-9626f299d156.png": {
     "image/png": "[encoded data removed]"
    }
   },
   "cell_type": "markdown",
   "id": "42aee26e-a34a-40d4-8298-34a5e23d461d",
   "metadata": {},
   "source": [
    "It can be demonstrated that:\n",
    "\n",
    "![immagine.png](attachment:692e9ffc-5ac2-4c00-8afb-9da4fd2ab21a.png)\n",
    "\n",
    "(z is the cumulative distribution function of the distribution -2ρlnQ).\n",
    "\n",
    "With\n",
    "\n",
    "![immagine.png](attachment:356a7b0f-8283-4867-a39c-2f4c6cb6a20d.png)\n",
    "\n",
    "and \n",
    "\n",
    "![immagine.png](attachment:e758c02d-0e2c-436e-af95-9626f299d156.png)"
   ]
  },
  {
   "cell_type": "markdown",
   "id": "9e03f7a8-ab60-470d-bdbd-345f38f81c99",
   "metadata": {},
   "source": [
    "Thus, -2ρlnQ should fit a *χ2 distribution*."
   ]
  },
  {
   "cell_type": "markdown",
   "id": "2197b228-d1ef-46f5-a33d-cc401ea64a33",
   "metadata": {},
   "source": [
    "When the probability mentioned before is high, the null hypothesis is rejected.\n",
    "\n",
    "In literature, the 5% and the 1% significance levels and the regions with probabilities lower than these levels are the regions where the null hypothesis is rejected for the 2 points in time (when major changes occurred).\n",
    "\n"
   ]
  },
  {
   "cell_type": "markdown",
   "id": "18db51a1-9c89-47df-bd8d-a4701a7ea0f7",
   "metadata": {
    "tags": []
   },
   "source": [
    "The significance level is the probability of rejecting the null hypothesis **when it is true**. For example, a significance level of 0.05 indicates a 5% risk of concluding that a difference exists when there is no actual difference. Lower significance levels indicate that you require stronger evidence before you will reject the null hypothesis."
   ]
  },
  {
   "cell_type": "markdown",
   "id": "ee802429-db71-4d19-b34a-6eee65e56d13",
   "metadata": {
    "tags": []
   },
   "source": [
    "![separator2](https://i.imgur.com/4gX5WFr.png)"
   ]
  },
  {
   "cell_type": "markdown",
   "id": "cce3ed16-2918-405e-a0bd-67649fbee451",
   "metadata": {},
   "source": [
    "### <font color = lime> **<u>Data Processing - In practice</u>**"
   ]
  },
  {
   "cell_type": "markdown",
   "id": "8f723a58-c62b-43d2-b652-3aaf7b226d1f",
   "metadata": {},
   "source": [
    "In practicle terms, the aim of the project is to determine the distribution -lnρQ for each resolution cell (pixel) and use that to find regions with changes.\n",
    "\n",
    "This entails:\n",
    "- Reading data correctly from binary files into matrices that can be displayed as images in order to obtain radar signals for each pixels for various combinations of polarization for transmission and detection.\n",
    "- Building covariance matrices for each pixel (**X** and **Y**).\n",
    "- Finding the equivalent number of looks (n)\n",
    "- Selecting a threshold from the distribution -2ρlnQ in a region with no changes and use this threshold to create a binary image (change/no change)"
   ]
  },
  {
   "cell_type": "code",
   "execution_count": null,
   "id": "6e786a16-ef4c-4c26-ae57-6be108ed4d9f",
   "metadata": {},
   "outputs": [],
   "source": []
  }
 ],
 "metadata": {
  "kernelspec": {
   "display_name": "Python 3 (ipykernel)",
   "language": "python",
   "name": "python3"
  },
  "language_info": {
   "codemirror_mode": {
    "name": "ipython",
    "version": 3
   },
   "file_extension": ".py",
   "mimetype": "text/x-python",
   "name": "python",
   "nbconvert_exporter": "python",
   "pygments_lexer": "ipython3",
   "version": "3.9.12"
  }
 },
 "nbformat": 4,
 "nbformat_minor": 5
}
